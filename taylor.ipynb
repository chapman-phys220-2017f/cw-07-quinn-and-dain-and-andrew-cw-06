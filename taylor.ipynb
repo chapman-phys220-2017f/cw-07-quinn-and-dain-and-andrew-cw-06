{
 "cells": [
  {
   "cell_type": "markdown",
   "metadata": {
    "collapsed": false
   },
   "source": [
    "# Taylor Approximation"
   ]
  },
  {
   "cell_type": "markdown",
   "metadata": {
    "collapsed": false
   },
   "source": [
    "Recall the Taylor expansion formula: $$f(a + y) = \\sum_{n=0}^\\infty \\frac{y^n}{n!}\\left[\\frac{d^n}{dy^n}f(a+y)\\right]{y=0}\\ = f(a) + f'(a)y + f''(a)\\frac{y^2}{2} + \\cdots$$ This formula states that an analytic function $f$ can be approximated by a polynomial series in the region around a domain point $a$, with the polynomial weights determined only by the derivatives of $f$ at the single point $a$. By shifting the domain point to $x = a + y$, we can rewrite the formula as: $$f(x) = \\sum_{n=0}^\\infty \\frac{(x-a)^n}{n!}\\left[\\frac{d^n}{dx^n}f(x)\\right]_{x=a}\\ = f(a) + f'(a)(x-a) + f''(a)\\frac{(x-a)^2}{2} + \\cdots$$ This formulation makes it more clear that the function $f$ at any point $x$ in the domain may be approximated by derivatives at $a$ and the displacements $(x-a)$ away from the point $a$."
   ]
  },
  {
   "cell_type": "markdown",
   "metadata": {
    "collapsed": false
   },
   "source": [
   ]
  }
 ],
 "metadata": {
  "kernelspec": {
   "display_name": "Python 3 (Anaconda)",
   "language": "python",
   "name": "anaconda3"
  },
  "language_info": {
   "codemirror_mode": {
    "name": "ipython",
    "version": 3
   },
   "file_extension": ".py",
   "mimetype": "text/x-python",
   "name": "python",
   "nbconvert_exporter": "python",
   "pygments_lexer": "ipython3",
   "version": "3.5.4"
  }
 },
 "nbformat": 4,
 "nbformat_minor": 0
}